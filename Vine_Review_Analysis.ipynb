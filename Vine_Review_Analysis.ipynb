{
 "cells": [
  {
   "cell_type": "code",
   "execution_count": 1,
   "id": "b4260bd5-fcce-465b-8b1d-117c7a046c91",
   "metadata": {},
   "outputs": [],
   "source": [
    "import pandas as pd"
   ]
  },
  {
   "cell_type": "code",
   "execution_count": 23,
   "id": "affbae90-e8d5-4425-bd36-506b9c3a5a88",
   "metadata": {},
   "outputs": [
    {
     "data": {
      "text/plain": [
       "review_id            4850360\n",
       "star_rating          4849563\n",
       "helpful_votes        4849563\n",
       "total_votes          4849563\n",
       "vine                 4849563\n",
       "verified_purchase    4849563\n",
       "dtype: int64"
      ]
     },
     "execution_count": 23,
     "metadata": {},
     "output_type": "execute_result"
    }
   ],
   "source": [
    "file_path = \"vine_table.csv\"\n",
    "vine_df = pd.read_csv(file_path)\n",
    "vine_df.head()\n",
    "vine_df.count()"
   ]
  },
  {
   "cell_type": "code",
   "execution_count": 22,
   "id": "d054ac53-d041-4ff0-9396-2b61ea86bf0c",
   "metadata": {},
   "outputs": [
    {
     "data": {
      "text/plain": [
       "review_id            11714\n",
       "star_rating          11714\n",
       "helpful_votes        11714\n",
       "total_votes          11714\n",
       "vine                 11714\n",
       "verified_purchase    11714\n",
       "dtype: int64"
      ]
     },
     "execution_count": 22,
     "metadata": {},
     "output_type": "execute_result"
    }
   ],
   "source": [
    "votes_df = vine_df[vine_df[\"total_votes\"]>= 20.0]\n",
    "#.filter([\"total_votes\"])\n",
    "\n",
    "votes_df.count()\n",
    "\n"
   ]
  },
  {
   "cell_type": "code",
   "execution_count": 24,
   "id": "f2133b1f-66d6-47b5-8dba-aa09b082e8a9",
   "metadata": {},
   "outputs": [
    {
     "name": "stderr",
     "output_type": "stream",
     "text": [
      "/opt/anaconda3/envs/mlenv/lib/python3.7/site-packages/ipykernel_launcher.py:1: SettingWithCopyWarning: \n",
      "A value is trying to be set on a copy of a slice from a DataFrame.\n",
      "Try using .loc[row_indexer,col_indexer] = value instead\n",
      "\n",
      "See the caveats in the documentation: https://pandas.pydata.org/pandas-docs/stable/user_guide/indexing.html#returning-a-view-versus-a-copy\n",
      "  \"\"\"Entry point for launching an IPython kernel.\n"
     ]
    },
    {
     "data": {
      "text/html": [
       "<div>\n",
       "<style scoped>\n",
       "    .dataframe tbody tr th:only-of-type {\n",
       "        vertical-align: middle;\n",
       "    }\n",
       "\n",
       "    .dataframe tbody tr th {\n",
       "        vertical-align: top;\n",
       "    }\n",
       "\n",
       "    .dataframe thead th {\n",
       "        text-align: right;\n",
       "    }\n",
       "</style>\n",
       "<table border=\"1\" class=\"dataframe\">\n",
       "  <thead>\n",
       "    <tr style=\"text-align: right;\">\n",
       "      <th></th>\n",
       "      <th>review_id</th>\n",
       "      <th>star_rating</th>\n",
       "      <th>helpful_votes</th>\n",
       "      <th>total_votes</th>\n",
       "      <th>vine</th>\n",
       "      <th>verified_purchase</th>\n",
       "      <th>vote_quality</th>\n",
       "    </tr>\n",
       "  </thead>\n",
       "  <tbody>\n",
       "    <tr>\n",
       "      <th>38</th>\n",
       "      <td>R3IHELMF8CQKVA</td>\n",
       "      <td>4.0</td>\n",
       "      <td>30.0</td>\n",
       "      <td>33.0</td>\n",
       "      <td>Y</td>\n",
       "      <td>N</td>\n",
       "      <td>0.909091</td>\n",
       "    </tr>\n",
       "    <tr>\n",
       "      <th>56</th>\n",
       "      <td>R3D0CLT7L1AL1Z</td>\n",
       "      <td>5.0</td>\n",
       "      <td>24.0</td>\n",
       "      <td>29.0</td>\n",
       "      <td>N</td>\n",
       "      <td>Y</td>\n",
       "      <td>0.827586</td>\n",
       "    </tr>\n",
       "    <tr>\n",
       "      <th>225</th>\n",
       "      <td>R2A2WIH7MYXSQG</td>\n",
       "      <td>4.0</td>\n",
       "      <td>20.0</td>\n",
       "      <td>20.0</td>\n",
       "      <td>N</td>\n",
       "      <td>Y</td>\n",
       "      <td>1.000000</td>\n",
       "    </tr>\n",
       "    <tr>\n",
       "      <th>262</th>\n",
       "      <td>R1AIRW03PGEZ43</td>\n",
       "      <td>4.0</td>\n",
       "      <td>42.0</td>\n",
       "      <td>44.0</td>\n",
       "      <td>N</td>\n",
       "      <td>Y</td>\n",
       "      <td>0.954545</td>\n",
       "    </tr>\n",
       "    <tr>\n",
       "      <th>320</th>\n",
       "      <td>R1HF36WIE2XLQ6</td>\n",
       "      <td>1.0</td>\n",
       "      <td>23.0</td>\n",
       "      <td>28.0</td>\n",
       "      <td>N</td>\n",
       "      <td>Y</td>\n",
       "      <td>0.821429</td>\n",
       "    </tr>\n",
       "  </tbody>\n",
       "</table>\n",
       "</div>"
      ],
      "text/plain": [
       "          review_id  star_rating  helpful_votes  total_votes vine  \\\n",
       "38   R3IHELMF8CQKVA          4.0           30.0         33.0    Y   \n",
       "56   R3D0CLT7L1AL1Z          5.0           24.0         29.0    N   \n",
       "225  R2A2WIH7MYXSQG          4.0           20.0         20.0    N   \n",
       "262  R1AIRW03PGEZ43          4.0           42.0         44.0    N   \n",
       "320  R1HF36WIE2XLQ6          1.0           23.0         28.0    N   \n",
       "\n",
       "    verified_purchase  vote_quality  \n",
       "38                  N      0.909091  \n",
       "56                  Y      0.827586  \n",
       "225                 Y      1.000000  \n",
       "262                 Y      0.954545  \n",
       "320                 Y      0.821429  "
      ]
     },
     "execution_count": 24,
     "metadata": {},
     "output_type": "execute_result"
    }
   ],
   "source": [
    "quality_df = votes_df[\"vote_quality\"] = votes_df[\"helpful_votes\"] / votes_df[\"total_votes\"]\n",
    "quality_df = votes_df[votes_df[\"vote_quality\"]>= 0.50]\n",
    "quality_df.head()"
   ]
  },
  {
   "cell_type": "code",
   "execution_count": 45,
   "id": "6e3ad6de-fe00-4a1b-8684-6cf216e54e18",
   "metadata": {},
   "outputs": [
    {
     "name": "stdout",
     "output_type": "stream",
     "text": [
      "Vine Reviews\n",
      "There were 66 total vine reviews\n",
      "There were 23 , 5 star reviews for vine members\n",
      "34.84848484848485 % of 5 star reviews for vine members\n"
     ]
    }
   ],
   "source": [
    "yes_vine = quality_df[quality_df[\"vine\"] == \"Y\"]\n",
    "yes_vine.head()\n",
    "\n",
    "num_yes = len(yes_vine.index)\n",
    "yes_vine_5star = yes_vine[yes_vine[\"star_rating\"] == 5.0]\n",
    "\n",
    "num_yes_5star = len(yes_vine_5star.index)\n",
    "\n",
    "star_perc = num_yes_5star / num_yes * 100\n",
    "print(\"Vine Reviews\")\n",
    "print(\"There were\", num_yes, \"total vine reviews\")\n",
    "print(\"There were\", num_yes_5star,\", 5 star reviews for vine members\")    \n",
    "print(star_perc, \"% of 5 star reviews for vine members\")"
   ]
  },
  {
   "cell_type": "code",
   "execution_count": 46,
   "id": "fbb69706-172b-49aa-a9ad-3753f8247060",
   "metadata": {},
   "outputs": [
    {
     "name": "stdout",
     "output_type": "stream",
     "text": [
      "Non-Vine Reviews\n",
      "There were 10583 total non-vine reviews\n",
      "There were 5620 , 5 star reviews for non-vine members\n",
      "53.10403477274874 % of 5 star reviews for non-vine members\n"
     ]
    }
   ],
   "source": [
    "no_vine = quality_df[quality_df[\"vine\"] == \"N\"]\n",
    "no_vine.head()\n",
    "num_no = len(no_vine.index)\n",
    "no_vine_5star = no_vine[no_vine[\"star_rating\"] == 5.0]\n",
    "\n",
    "num_no_5star = len(no_vine_5star.index)\n",
    "\n",
    "star_perc_no = num_no_5star / num_no * 100\n",
    "print(\"Non-Vine Reviews\")\n",
    "print(\"There were\", num_no, \"total non-vine reviews\")\n",
    "print(\"There were\", num_no_5star,\", 5 star reviews for non-vine members\")   \n",
    "print(star_perc_no, \"% of 5 star reviews for non-vine members\")"
   ]
  },
  {
   "cell_type": "code",
   "execution_count": null,
   "id": "d857278a-f222-4f2f-a2e6-6981b34131b5",
   "metadata": {},
   "outputs": [],
   "source": []
  }
 ],
 "metadata": {
  "kernelspec": {
   "display_name": "mlenv",
   "language": "python",
   "name": "mlenv"
  },
  "language_info": {
   "codemirror_mode": {
    "name": "ipython",
    "version": 3
   },
   "file_extension": ".py",
   "mimetype": "text/x-python",
   "name": "python",
   "nbconvert_exporter": "python",
   "pygments_lexer": "ipython3",
   "version": "3.7.11"
  }
 },
 "nbformat": 4,
 "nbformat_minor": 5
}
